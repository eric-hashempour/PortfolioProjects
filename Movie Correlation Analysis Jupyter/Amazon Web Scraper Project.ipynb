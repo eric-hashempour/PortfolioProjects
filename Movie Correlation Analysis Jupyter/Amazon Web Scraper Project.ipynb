{
 "cells": [
  {
   "cell_type": "code",
   "execution_count": 144,
   "id": "169a96f3-3a7c-4895-aba4-d087a6c773e9",
   "metadata": {},
   "outputs": [],
   "source": [
    "# Import Libraries\n",
    "\n",
    "from bs4 import BeautifulSoup\n",
    "import requests\n",
    "import smtplib\n",
    "import time\n",
    "import datetime\n",
    "import pandas as pd\n"
   ]
  },
  {
   "cell_type": "code",
   "execution_count": 146,
   "id": "af9ff144-6cd0-41af-a12c-5058da708cef",
   "metadata": {},
   "outputs": [
    {
     "name": "stdout",
     "output_type": "stream",
     "text": [
      "Funny Got Data Mis Data Systems Business Analyst T-Shirt Black\n",
      "$25.99\n"
     ]
    }
   ],
   "source": [
    "# Connect to Website\n",
    "\n",
    "URL = '<your-amazon-product-url>'\n",
    "\n",
    "headers = {\"User-Agent\": \"Mozilla/5.0 (Windows NT 10.0; Win64; x64) AppleWebKit/537.36 (KHTML, like Gecko) Chrome/127.0.0.0 Safari/537.36\", \"Accept\": \"text/html,application/xhtml+xml,application/xml;q=0.9,image/avif,image/webp,image/apng,*/*;q=0.8,application/signed-exchange;v=b3;q=0.7\", \n",
    "    \"Accept-Encoding\": \"gzip, deflate, br, zstd\", \"DNT\":\"1\",\"Connection\":\"close\", \"Upgrade-Insecure-Requests\":\"1\", \"Accept-Language\": \"en-US,en;q=0.9\"}\n",
    "\n",
    "page = requests.get(URL, headers= headers)\n",
    "soup = BeautifulSoup(page.content, \"html.parser\")\n",
    "\n",
    "#soup2 = BeautifulSoup(soup1.prettify(), \"html.parser\")\n",
    "\n",
    "#title = soup2.find(id= 'productTitle').get_text()\n",
    "#price = soup2.find(id= 'a-price-whole').get_text()\n",
    "\n",
    "# Extract Info\n",
    "title = soup.find(id='productTitle').get_text().strip()\n",
    "price_symbol = soup.find('span',class_='a-price-symbol').get_text()\n",
    "price_whole = soup.find('span',class_='a-price-whole').get_text()\n",
    "price_fraction = soup.find('span',class_='a-price-fraction').get_text()\n",
    "\n",
    "# Combine Price\n",
    "full_price = f\"{price_symbol}{price_whole}{price_fraction}\"\n",
    "\n",
    "# Print Results\n",
    "print(title)\n",
    "print(full_price)\n",
    "\n",
    "#type(price)"
   ]
  },
  {
   "cell_type": "code",
   "execution_count": 148,
   "id": "4a26cba2-dd17-4919-ad45-ecb1a624032b",
   "metadata": {},
   "outputs": [
    {
     "name": "stdout",
     "output_type": "stream",
     "text": [
      "2025-05-09\n"
     ]
    }
   ],
   "source": [
    "today = datetime.date.today()\n",
    "print(today)"
   ]
  },
  {
   "cell_type": "code",
   "execution_count": 164,
   "id": "35e02529-2dfb-4180-b89b-3338a8c8c687",
   "metadata": {},
   "outputs": [],
   "source": [
    "# Import Data into a CSV\n",
    "\n",
    "import csv\n",
    "\n",
    "header = ['Title', 'Price', 'Date']\n",
    "data = [title, full_price, today]\n",
    "\n",
    "#type(data)\n",
    "\n",
    "with open(r'C:\\...\\AWSDataset.csv', 'w', newline = '', encoding = 'UTF8') as f:\n",
    "    writer = csv.writer(f)\n",
    "    writer.writerow(header)\n",
    "    writer.writerow(data)\n"
   ]
  },
  {
   "cell_type": "code",
   "execution_count": 154,
   "id": "fe45491c-45c0-445c-a2cb-e0a136a27448",
   "metadata": {},
   "outputs": [
    {
     "name": "stdout",
     "output_type": "stream",
     "text": [
      "                                               Title   Price        Date\n",
      "0  Funny Got Data Mis Data Systems Business Analy...  $25.99  2025-05-09\n"
     ]
    }
   ],
   "source": [
    "df = pd.read_csv(r'C:\\...\\AWSDataset.csv')\n",
    "\n",
    "print(df)"
   ]
  },
  {
   "cell_type": "code",
   "execution_count": 156,
   "id": "01e493cf-95fe-43cc-a198-cc456a4a7562",
   "metadata": {},
   "outputs": [],
   "source": [
    "# Append Data to CSV\n",
    "\n",
    "with open(r'C:\\...\\AWSDataset.csv', 'a+', newline = '', encoding = 'UTF8') as f:\n",
    "    writer = csv.writer(f)\n",
    "    writer.writerow(data)"
   ]
  },
  {
   "cell_type": "code",
   "execution_count": 158,
   "id": "2584e595-d725-49ae-8fe8-f42c564ec9f9",
   "metadata": {},
   "outputs": [],
   "source": [
    "\n",
    "def check_price():\n",
    "\n",
    "    URL = '<your-amazon-product-url>'\n",
    "\n",
    "    headers = {\"User-Agent\": \"Mozilla/5.0 (Windows NT 10.0; Win64; x64) AppleWebKit/537.36 (KHTML, like Gecko) Chrome/127.0.0.0 Safari/537.36\", \"Accept\": \"text/html,application/xhtml+xml,application/xml;q=0.9,image/avif,image/webp,image/apng,*/*;q=0.8,application/signed-exchange;v=b3;q=0.7\", \n",
    "    \"Accept-Encoding\": \"gzip, deflate, br, zstd\", \"DNT\":\"1\",\"Connection\":\"close\", \"Upgrade-Insecure-Requests\":\"1\", \"Accept-Language\": \"en-US,en;q=0.9\"}\n",
    "\n",
    "    page = requests.get(URL, headers= headers)\n",
    "    soup = BeautifulSoup(page.content, \"html.parser\")\n",
    "\n",
    "    title = soup.find(id='productTitle').get_text().strip()\n",
    "    price_symbol = soup.find('span',class_='a-price-symbol').get_text()\n",
    "    price_whole = soup.find('span',class_='a-price-whole').get_text()\n",
    "    price_fraction = soup.find('span',class_='a-price-fraction').get_text()\n",
    "\n",
    "    full_price = f\"{price_symbol}{price_whole}{price_fraction}\"\n",
    "\n",
    "    today = datetime.date.today()\n",
    "\n",
    "    import csv\n",
    "\n",
    "    header = ['Title', 'Price', 'Date']\n",
    "    data = [title, full_price, today]\n",
    "\n",
    "    # Only Add New Price if it's Different from the Last Price\n",
    "    \n",
    "    # with open(r'C:\\...\\AWSDataset.csv', 'r', newline = '', encoding = 'UTF8') as r:\n",
    "    #     reader = csv.reader(r)\n",
    "    #     rows = list(reader)\n",
    "    #     if len(rows) > 1:\n",
    "    #         last_price = rows[-1][1]\n",
    "\n",
    "    # if last_price != full_price:\n",
    "    with open(r'C:\\...\\AWSDataset.csv', 'a+', newline = '', encoding = 'UTF8') as f:\n",
    "        writer = csv.writer(f)\n",
    "        writer.writerow(data)\n",
    "  "
   ]
  },
  {
   "cell_type": "code",
   "execution_count": null,
   "id": "5a4be79a-dfa2-4bc4-9fc0-f9934a7d394e",
   "metadata": {},
   "outputs": [],
   "source": [
    "# Check Price Daily\n",
    "\n",
    "try:\n",
    "    while(True):\n",
    "        check_price()\n",
    "        time.sleep(86400)\n",
    "\n",
    "except KeyboardInterrupt: \n",
    "    print(\"Loop Stopped by User\")"
   ]
  },
  {
   "cell_type": "code",
   "execution_count": 166,
   "id": "d3debd98-e460-41f8-a4cc-3d9c72983d21",
   "metadata": {},
   "outputs": [
    {
     "name": "stdout",
     "output_type": "stream",
     "text": [
      "                                               Title   Price        Date\n",
      "0  Funny Got Data Mis Data Systems Business Analy...  $25.99  2025-05-09\n"
     ]
    }
   ],
   "source": [
    "df = pd.read_csv(r'C:\\...\\AWSDataset.csv')\n",
    "\n",
    "print(df)"
   ]
  }
 ],
 "metadata": {
  "kernelspec": {
   "display_name": "Python [conda env:base] *",
   "language": "python",
   "name": "conda-base-py"
  },
  "language_info": {
   "codemirror_mode": {
    "name": "ipython",
    "version": 3
   },
   "file_extension": ".py",
   "mimetype": "text/x-python",
   "name": "python",
   "nbconvert_exporter": "python",
   "pygments_lexer": "ipython3",
   "version": "3.12.7"
  }
 },
 "nbformat": 4,
 "nbformat_minor": 5
}
